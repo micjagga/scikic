{
 "cells": [
  {
   "cell_type": "markdown",
   "metadata": {},
   "source": [
    "#Scikic API v1\n",
    " \n",
    "Here are some examples of the API in action. A POST request is used for the query, in case the data we're sending is too large to fit in a GET request. Not it always uses POST (so not using the range of HTTP queries).\n",
    "\n",
    "###Question/Answer dictionaries\n",
    "\n",
    "I've organised the questions and answers to be in 4 value dictionaries, containing:\n",
    "\n",
    "- dataset: lets the system know which class to instantiate etc, examples: postcode, census, movielens, ...etc\n",
    "- dataitem: used by classes to know which aspect of the dataset. For example in the movielens dataset, one could be interested in whether the user's seen a film or what rating they've given the film.\n",
    "- detail: often unused by the classes, could be, for example the id of the film we want to know about.\n",
    "- answer: the user's answer.\n",
    "\n",
    "###1. Get a suggestion for a question to answer *[action: question]*\n",
    "\n",
    "This call returns a dictionary of {dataset,dataitem,detail,answer}.\n",
    "\n",
    "'data' contains a list of previous asked (and answered) questions, to allow an optimum question to be asked.\n",
    "\n",
    "Potentially will add 'features' as a key in the payload so you can choose what you want the question to maximise information about."
   ]
  },
  {
   "cell_type": "code",
   "execution_count": 1,
   "metadata": {
    "collapsed": false
   },
   "outputs": [
    {
     "data": {
      "text/plain": [
       "'{\"detail\": \"\", \"dataitem\": \"favourite_artist\", \"dataset\": \"music\"}\\n'"
      ]
     },
     "execution_count": 1,
     "metadata": {},
     "output_type": "execute_result"
    }
   ],
   "source": [
    "import requests\n",
    "#Previous questions and answers are in 'data' as an array of dictionaries\n",
    "data = [{'dataset':'postcode','dataitem':'postcode','detail':''}]\n",
    "payload = {\"version\":1, 'data': data, 'apikey': 'YOUR_API_KEY_HERE', 'action':'question'}\n",
    "r = requests.post('http://scikic.org/api/api.cgi',json=payload)\n",
    "r.content"
   ]
  },
  {
   "cell_type": "markdown",
   "metadata": {},
   "source": [
    "###2. Get a text string of the question *[action: questionstring]*\n",
    "\n",
    "This API will change, as it will soon also return what buttons/etc will be required, to allow non-textual responses."
   ]
  },
  {
   "cell_type": "code",
   "execution_count": 2,
   "metadata": {
    "collapsed": false
   },
   "outputs": [
    {
     "data": {
      "text/plain": [
       "'\"What\\'s your postcode?\"\\n'"
      ]
     },
     "execution_count": 2,
     "metadata": {},
     "output_type": "execute_result"
    }
   ],
   "source": [
    "import requests\n",
    "\n",
    "data = {'dataset':'postcode','dataitem':'postcode','detail':''}\n",
    "payload = {\"version\":1, 'data': data, 'apikey': 'YOUR_API_KEY_HERE', 'action':'questionstring'}\n",
    "r = requests.post('http://scikic.org/api/api.cgi',json=payload)\n",
    "r.content"
   ]
  },
  {
   "cell_type": "markdown",
   "metadata": {},
   "source": [
    "###3. Process Answer *[action: processanswer]*\n",
    "\n",
    "Sometimes we need to improve or process an answer. For example if someone uses the 'where' class to give the city they are in, we can call 'processanswer' to get more details. To use, pass the question-answer dictionary as 'data' and use action 'processanswer'. The result is a new dictionary: It may be the same as the one you entered, or the class may change its contents. In this example it has looked up the latitude and longitude of sheffield."
   ]
  },
  {
   "cell_type": "code",
   "execution_count": 3,
   "metadata": {
    "collapsed": false
   },
   "outputs": [
    {
     "data": {
      "text/plain": [
       "'{\"answer\": \"sheffield\", \"dataset\": \"where\", \"detail\": \"\", \"dataitem\": \"city\"}\\n'"
      ]
     },
     "execution_count": 3,
     "metadata": {},
     "output_type": "execute_result"
    }
   ],
   "source": [
    "import requests\n",
    "data = {'dataset':'where','dataitem':'city','detail':'','answer':'sheffield'}\n",
    "payload = {\"version\":1, 'data': data, 'apikey': 'YOUR_API_KEY_HERE', 'action':'processanswer'}\n",
    "r = requests.post('http://scikic.org/api/api.cgi',json=payload)\n",
    "r.content"
   ]
  },
  {
   "cell_type": "markdown",
   "metadata": {},
   "source": [
    "###4. Inference *[action: inference]*\n",
    "\n",
    "Put the questions and answers in 'data', as a list of dictionaries of {dataset,dataitem,detail,answer}.\n",
    "Put a list of features that you want inference about in 'features' (for example ['factor_age','religion']).\n",
    "\n",
    "Returns a dictionary of features, each one simply an array of the probabilities associated with each value. The API needs to provide a little more info here (TODO). If some probabilities are zero towards the end of a list then the list will be truncated. For example if inference is certain the user is a male, then the output list will be {\"factor_gender\":[1.0]}. If they are definitely female it will be {\"factor_gender\":[0.0, 1.0]}"
   ]
  },
  {
   "cell_type": "code",
   "execution_count": 4,
   "metadata": {
    "collapsed": false,
    "scrolled": true
   },
   "outputs": [
    {
     "data": {
      "text/plain": [
       "'{\"facts\": {}, \"features\": {\"religion\": {\"distribution\": [0.7071111111111111, 0.0035555555555555557, 0.015555555555555555, 0.004, 0.04488888888888889, 0.005333333333333333, 0.0044444444444444444, 0.21511111111111111], \"quartiles\": {\"upper\": 4, \"lower\": 0, \"mean\": 1.7853333333333334}}, \"factor_gender\": {\"distribution\": [0.33155555555555555, 0.6684444444444444], \"quartiles\": {\"upper\": 1, \"lower\": 0, \"mean\": 0.6684444444444444}}, \"oa\": {\"distribution\": [1.0], \"quartiles\": {\"upper\": 0, \"lower\": 0, \"mean\": 0.0}}, \"factor_age\": {\"distribution\": [0.004888888888888889, 0.012888888888888889, 0.006222222222222222, 0.012444444444444444, 0.0071111111111111115, 0.010222222222222223, 0.006666666666666667, 0.010666666666666666, 0.009777777777777778, 0.010666666666666666, 0.007555555555555556, 0.010666666666666666, 0.012, 0.0044444444444444444, 0.008888888888888889, 0.008888888888888889, 0.008888888888888889, 0.011111111111111112, 0.010222222222222223, 0.013777777777777778, 0.008444444444444444, 0.009777777777777778, 0.012888888888888889, 0.008888888888888889, 0.012888888888888889, 0.012, 0.009333333333333334, 0.012444444444444444, 0.012, 0.008, 0.007555555555555556, 0.009777777777777778, 0.013777777777777778, 0.0071111111111111115, 0.009777777777777778, 0.008444444444444444, 0.014222222222222223, 0.012444444444444444, 0.011555555555555555, 0.008888888888888889, 0.0071111111111111115, 0.010222222222222223, 0.012888888888888889, 0.006666666666666667, 0.015111111111111112, 0.009777777777777778, 0.013777777777777778, 0.010666666666666666, 0.010666666666666666, 0.0071111111111111115, 0.0071111111111111115, 0.009777777777777778, 0.010666666666666666, 0.006666666666666667, 0.008888888888888889, 0.014666666666666666, 0.012444444444444444, 0.009777777777777778, 0.011555555555555555, 0.009777777777777778, 0.006666666666666667, 0.011555555555555555, 0.008888888888888889, 0.012, 0.007555555555555556, 0.010222222222222223, 0.011111111111111112, 0.006222222222222222, 0.012, 0.010666666666666666, 0.0057777777777777775, 0.011555555555555555, 0.010222222222222223, 0.009333333333333334, 0.011555555555555555, 0.010666666666666666, 0.008888888888888889, 0.012444444444444444, 0.012, 0.008, 0.0057777777777777775, 0.010666666666666666, 0.006666666666666667, 0.012, 0.008888888888888889, 0.008444444444444444, 0.008, 0.007555555555555556, 0.011111111111111112, 0.008, 0.010222222222222223, 0.010222222222222223, 0.005333333333333333, 0.009777777777777778, 0.009333333333333334, 0.009777777777777778, 0.013777777777777778, 0.009777777777777778, 0.012888888888888889, 0.008444444444444444, 0.012444444444444444], \"quartiles\": {\"upper\": 75, \"lower\": 25, \"mean\": 50.05333333333334}}}, \"insights\": [\"I can\\'t tell which country you\\'re in, just looking at your facebook likes, as I can\\'t see your facebook likes!\", \"You\\'re called ?????!\", \"You are aged between 25 and 75.\\\\n<br />\", \" I think you are Christian or of no religion\"]}\\n'"
      ]
     },
     "execution_count": 4,
     "metadata": {},
     "output_type": "execute_result"
    }
   ],
   "source": [
    "import requests\n",
    "data = [{'dataset':'postcode','dataitem':'postcode','detail':''}]\n",
    "features = ['factor_age']\n",
    "payload = {\"version\":1, 'data': data, 'apikey': 'YOUR_API_KEY_HERE', 'action':'inference', 'features': features}\n",
    "r = requests.post('http://scikic.org/api/api.cgi',json=payload)\n",
    "r.content"
   ]
  },
  {
   "cell_type": "markdown",
   "metadata": {},
   "source": [
    "###5. Metadata *[action: metadata]*\n",
    "\n",
    "Some (ok, only one at the moment) of the classes provide metadata about the results. Use the 'metadata' action to retrieve these. Pass a dictionary in 'data' with the name of the dataset."
   ]
  },
  {
   "cell_type": "code",
   "execution_count": 8,
   "metadata": {
    "collapsed": false
   },
   "outputs": [
    {
     "data": {
      "text/plain": [
       "'{\"religions\": [\"Christian\", \"Buddhist\", \"Hindu\", \"Jewish\", \"Muslim\", \"Sikh\", \"Other religion\", \"No religion\"], \"religion_text\": [\"Christian\", \"Buddhist\", \"Hindu\", \"Jewish\", \"Muslim\", \"Sikh\", \"religious (but I do\\'t know which)\", \"of no religion\"]}\\n'"
      ]
     },
     "execution_count": 8,
     "metadata": {},
     "output_type": "execute_result"
    }
   ],
   "source": [
    "import requests\n",
    "data = {'dataset':'census'}\n",
    "payload = {\"version\":1, 'data': data, 'apikey': 'YOUR_API_KEY_HERE', 'action':'metadata'}\n",
    "r = requests.post('http://scikic.org/api/api.cgi',json=payload)\n",
    "r.content"
   ]
  },
  {
   "cell_type": "markdown",
   "metadata": {},
   "source": [
    "###Insights\n",
    "\n",
    "Some of the classes can provide insights based on the results of the inference (and some don't need the inference to be carried out and provide insights directly from the answers given).\n",
    "\n",
    "Originally planned to have it as a seperate API query, but now returned with the inference (above).\n"
   ]
  },
  {
   "cell_type": "markdown",
   "metadata": {
    "collapsed": true
   },
   "source": [
    "###Future additions\n",
    "\n",
    "- Get list of features available\n",
    "- For inference, add 'features' as a key in the payload so you can choose what you want the question to maximise information about.\n",
    "- Incorporate data: Need to be able to add new data for training."
   ]
  }
 ],
 "metadata": {
  "kernelspec": {
   "display_name": "Python 2",
   "language": "python",
   "name": "python2"
  },
  "language_info": {
   "codemirror_mode": {
    "name": "ipython",
    "version": 2
   },
   "file_extension": ".py",
   "mimetype": "text/x-python",
   "name": "python",
   "nbconvert_exporter": "python",
   "pygments_lexer": "ipython2",
   "version": "2.7.11"
  }
 },
 "nbformat": 4,
 "nbformat_minor": 0
}
